{
 "cells": [
  {
   "cell_type": "code",
   "execution_count": 94,
   "metadata": {},
   "outputs": [
    {
     "name": "stdout",
     "output_type": "stream",
     "text": [
      "train_data:\n",
      "|    |   PassengerId |   Survived |   Pclass | Name                                                | Sex    |   Age |   SibSp |   Parch | Ticket           |    Fare | Cabin   | Embarked   |\n",
      "|---:|--------------:|-----------:|---------:|:----------------------------------------------------|:-------|------:|--------:|--------:|:-----------------|--------:|:--------|:-----------|\n",
      "|  0 |             1 |          0 |        3 | Braund, Mr. Owen Harris                             | male   |    22 |       1 |       0 | A/5 21171        |  7.25   | nan     | S          |\n",
      "|  1 |             2 |          1 |        1 | Cumings, Mrs. John Bradley (Florence Briggs Thayer) | female |    38 |       1 |       0 | PC 17599         | 71.2833 | C85     | C          |\n",
      "|  2 |             3 |          1 |        3 | Heikkinen, Miss. Laina                              | female |    26 |       0 |       0 | STON/O2. 3101282 |  7.925  | nan     | S          |\n",
      "|  3 |             4 |          1 |        1 | Futrelle, Mrs. Jacques Heath (Lily May Peel)        | female |    35 |       1 |       0 | 113803           | 53.1    | C123    | S          |\n",
      "|  4 |             5 |          0 |        3 | Allen, Mr. William Henry                            | male   |    35 |       0 |       0 | 373450           |  8.05   | nan     | S          |\n",
      "(891, 12)\n",
      "\n",
      "\n",
      "\n",
      "test_data:\n",
      "|    |   PassengerId |   Pclass | Name                                         | Sex    |   Age |   SibSp |   Parch |   Ticket |    Fare |   Cabin | Embarked   |\n",
      "|---:|--------------:|---------:|:---------------------------------------------|:-------|------:|--------:|--------:|---------:|--------:|--------:|:-----------|\n",
      "|  0 |           892 |        3 | Kelly, Mr. James                             | male   |  34.5 |       0 |       0 |   330911 |  7.8292 |     nan | Q          |\n",
      "|  1 |           893 |        3 | Wilkes, Mrs. James (Ellen Needs)             | female |  47   |       1 |       0 |   363272 |  7      |     nan | S          |\n",
      "|  2 |           894 |        2 | Myles, Mr. Thomas Francis                    | male   |  62   |       0 |       0 |   240276 |  9.6875 |     nan | Q          |\n",
      "|  3 |           895 |        3 | Wirz, Mr. Albert                             | male   |  27   |       0 |       0 |   315154 |  8.6625 |     nan | S          |\n",
      "|  4 |           896 |        3 | Hirvonen, Mrs. Alexander (Helga E Lindqvist) | female |  22   |       1 |       1 |  3101298 | 12.2875 |     nan | S          |\n",
      "(418, 11)\n",
      "\n",
      "\n",
      "\n",
      "gender_submission:\n",
      "|    |   PassengerId |   Survived |\n",
      "|---:|--------------:|-----------:|\n",
      "|  0 |           892 |          0 |\n",
      "|  1 |           893 |          1 |\n",
      "|  2 |           894 |          0 |\n",
      "|  3 |           895 |          0 |\n",
      "|  4 |           896 |          1 |\n",
      "(418, 2)\n"
     ]
    }
   ],
   "source": [
    "import numpy as np # linear algebra\n",
    "import pandas as pd # data processing\n",
    "\n",
    "train_data = pd.read_csv(\"../datasets/train.csv\")\n",
    "print('train_data:')\n",
    "print(train_data.head().to_markdown())\n",
    "print(train_data.shape)\n",
    "\n",
    "print('\\n\\n')\n",
    "\n",
    "test_data = pd.read_csv(\"../datasets/test.csv\")\n",
    "print('test_data:')\n",
    "print(test_data.head().to_markdown())\n",
    "print(test_data.shape)\n",
    "\n",
    "print('\\n\\n')\n",
    "\n",
    "gender_submission = pd.read_csv(\"../datasets/gender_submission.csv\")\n",
    "print('gender_submission:')\n",
    "print(gender_submission.head().to_markdown())\n",
    "print(gender_submission.shape)"
   ]
  },
  {
   "cell_type": "code",
   "execution_count": 95,
   "metadata": {},
   "outputs": [
    {
     "name": "stdout",
     "output_type": "stream",
     "text": [
      "% of women who survived: 0.7420382165605095\n",
      "\n",
      "\n",
      "% of men who survived: 0.18890814558058924\n"
     ]
    }
   ],
   "source": [
    "# surviving rate by gender\n",
    "\n",
    "women = train_data.loc[train_data.Sex == 'female'][\"Survived\"]\n",
    "rate_women = sum(women)/len(women)\n",
    "\n",
    "print(\"% of women who survived:\", rate_women)\n",
    "\n",
    "print('\\n')\n",
    "\n",
    "men = train_data.loc[train_data.Sex == 'male'][\"Survived\"]\n",
    "rate_men = sum(men)/len(men)\n",
    "\n",
    "print(\"% of men who survived:\", rate_men)"
   ]
  },
  {
   "cell_type": "code",
   "execution_count": 96,
   "metadata": {},
   "outputs": [
    {
     "name": "stdout",
     "output_type": "stream",
     "text": [
      "Submission successfully saved\n"
     ]
    }
   ],
   "source": [
    "from sklearn.ensemble import RandomForestClassifier\n",
    "\n",
    "y = train_data[\"Survived\"]\n",
    "\n",
    "features = [\"Pclass\", \"Sex\", \"SibSp\", \"Parch\"]\n",
    "X = pd.get_dummies(train_data[features])\n",
    "X_test = pd.get_dummies(test_data[features])\n",
    "\n",
    "# training the model\n",
    "model = RandomForestClassifier(n_estimators=100, max_depth=5, random_state=1)\n",
    "model.fit(X,y)\n",
    "\n",
    "# making predictions\n",
    "predictions = model.predict(X_test)\n",
    "y_pred = pd.Series(predictions)\n",
    "y_test = gender_submission[\"Survived\"]\n",
    "\n",
    "output = pd.DataFrame({'PassengerId': test_data.PassengerId, 'Survived': predictions})\n",
    "output.to_csv('submission.csv', index=False)\n",
    "print(\"Submission successfully saved\")"
   ]
  },
  {
   "cell_type": "code",
   "execution_count": 98,
   "metadata": {},
   "outputs": [
    {
     "name": "stdout",
     "output_type": "stream",
     "text": [
      "accuracy:  0.97\n",
      "classification report:\n",
      "              precision    recall  f1-score   support\n",
      "\n",
      "           0       0.97      0.98      0.98       266\n",
      "           1       0.97      0.95      0.96       152\n",
      "\n",
      "    accuracy                           0.97       418\n",
      "   macro avg       0.97      0.97      0.97       418\n",
      "weighted avg       0.97      0.97      0.97       418\n",
      "\n",
      "cross-validation acuracy:\n",
      "[0.76536313 0.80337079 0.80898876 0.79213483 0.8258427 ]\n"
     ]
    },
    {
     "data": {
      "image/png": "[encoded data removed]",
      "text/plain": [
       "<Figure size 800x600 with 2 Axes>"
      ]
     },
     "metadata": {},
     "output_type": "display_data"
    }
   ],
   "source": [
    "from sklearn.metrics import accuracy_score, classification_report, confusion_matrix\n",
    "from sklearn.model_selection import cross_val_score\n",
    "\n",
    "# accuracy\n",
    "accuracy = accuracy_score(y_test, y_pred)\n",
    "print(f'accuracy: {accuracy: .2f}')\n",
    "\n",
    "# classification report\n",
    "classification_report = classification_report(y_test, y_pred)\n",
    "print('classification report:')\n",
    "print(classification_report)\n",
    "\n",
    "# cross-validation\n",
    "scores = cross_val_score(model, X, y, cv=5)\n",
    "print('cross-validation acuracy:')\n",
    "print(scores)\n",
    "\n",
    "# confusion matrix\n",
    "import seaborn as sns\n",
    "import matplotlib.pyplot as plt\n",
    "\n",
    "confusion_matrix = confusion_matrix(y_test, y_pred)\n",
    "confusion_matrix_df = pd.DataFrame(confusion_matrix, index=['Acctual not-sruvived', 'Acctual survived'], columns=['Predicted not-survived', 'Predicted survived'])\n",
    "plt.figure(figsize=(8, 6))\n",
    "sns.heatmap(confusion_matrix_df, annot=True, fmt='d', cmap='Blues')\n",
    "plt.title('confusion_matrix')\n",
    "plt.show()"
   ]
  }
 ],
 "metadata": {
  "kernelspec": {
   "display_name": "Python 3",
   "language": "python",
   "name": "python3"
  },
  "language_info": {
   "codemirror_mode": {
    "name": "ipython",
    "version": 3
   },
   "file_extension": ".py",
   "mimetype": "text/x-python",
   "name": "python",
   "nbconvert_exporter": "python",
   "pygments_lexer": "ipython3",
   "version": "3.9.6"
  }
 },
 "nbformat": 4,
 "nbformat_minor": 2
}
